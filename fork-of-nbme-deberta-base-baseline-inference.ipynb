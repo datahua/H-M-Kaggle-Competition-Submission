{
 "cells": [
  {
   "cell_type": "markdown",
   "id": "28de17dc",
   "metadata": {
    "papermill": {
     "duration": 0.022321,
     "end_time": "2022-05-01T10:19:42.206511",
     "exception": false,
     "start_time": "2022-05-01T10:19:42.184190",
     "status": "completed"
    },
    "tags": []
   },
   "source": [
    "# About this notebook\n",
    "- Deberta-base starter code\n",
    "- pip wheels is [here](https://www.kaggle.com/yasufuminakama/nbme-pip-wheels)\n",
    "- Training notebook is [here](https://www.kaggle.com/yasufuminakama/nbme-deberta-base-baseline-train)\n",
    "\n",
    "If this notebook is helpful, feel free to upvote :)"
   ]
  },
  {
   "cell_type": "markdown",
   "id": "364a827f",
   "metadata": {
    "papermill": {
     "duration": 0.018996,
     "end_time": "2022-05-01T10:19:42.245899",
     "exception": false,
     "start_time": "2022-05-01T10:19:42.226903",
     "status": "completed"
    },
    "tags": []
   },
   "source": [
    "# CFG"
   ]
  },
  {
   "cell_type": "code",
   "execution_count": null,
   "id": "69b8f50b",
   "metadata": {
    "execution": {
     "iopub.execute_input": "2022-05-01T07:16:38.18902Z",
     "iopub.status.busy": "2022-05-01T07:16:38.188389Z",
     "iopub.status.idle": "2022-05-01T07:16:38.220522Z",
     "shell.execute_reply": "2022-05-01T07:16:38.219806Z",
     "shell.execute_reply.started": "2022-05-01T07:16:38.188913Z"
    },
    "papermill": {
     "duration": 0.018488,
     "end_time": "2022-05-01T10:19:42.284265",
     "exception": false,
     "start_time": "2022-05-01T10:19:42.265777",
     "status": "completed"
    },
    "tags": []
   },
   "outputs": [],
   "source": [
    " "
   ]
  },
  {
   "cell_type": "code",
   "execution_count": 1,
   "id": "02a73438",
   "metadata": {
    "execution": {
     "iopub.execute_input": "2022-05-01T10:19:42.339751Z",
     "iopub.status.busy": "2022-05-01T10:19:42.338968Z",
     "iopub.status.idle": "2022-05-01T10:19:42.346371Z",
     "shell.execute_reply": "2022-05-01T10:19:42.345468Z",
     "shell.execute_reply.started": "2022-05-01T07:16:38.476544Z"
    },
    "papermill": {
     "duration": 0.042427,
     "end_time": "2022-05-01T10:19:42.346573",
     "exception": false,
     "start_time": "2022-05-01T10:19:42.304146",
     "status": "completed"
    },
    "tags": []
   },
   "outputs": [],
   "source": [
    "# ====================================================\n",
    "# CFG\n",
    "# ====================================================\n",
    "class CFG:\n",
    "    num_workers=4   \n",
    "    path=\"../input/nbme-deberta-base-baseline-train/\"\n",
    "    config_path=path+'config.pth'   \n",
    "    model=\"microsoft/deberta-base\"\n",
    "    batch_size=24\n",
    "    fc_dropout=0.2  \n",
    "    \n",
    "    max_len=466\n",
    "    seed=42\n",
    "    n_fold=5\n",
    "    trn_fold=[0, 1, 2, 3, 4]"
   ]
  },
  {
   "cell_type": "markdown",
   "id": "5f320e46",
   "metadata": {
    "papermill": {
     "duration": 0.018644,
     "end_time": "2022-05-01T10:19:42.385686",
     "exception": false,
     "start_time": "2022-05-01T10:19:42.367042",
     "status": "completed"
    },
    "tags": []
   },
   "source": [
    "# Library"
   ]
  },
  {
   "cell_type": "code",
   "execution_count": 2,
   "id": "0c205a09",
   "metadata": {
    "execution": {
     "iopub.execute_input": "2022-05-01T10:19:42.453672Z",
     "iopub.status.busy": "2022-05-01T10:19:42.448573Z",
     "iopub.status.idle": "2022-05-01T10:29:36.920833Z",
     "shell.execute_reply": "2022-05-01T10:29:36.920161Z",
     "shell.execute_reply.started": "2022-05-01T07:16:39.271828Z"
    },
    "papermill": {
     "duration": 594.516098,
     "end_time": "2022-05-01T10:29:36.921104",
     "exception": false,
     "start_time": "2022-05-01T10:19:42.405006",
     "status": "completed"
    },
    "tags": []
   },
   "outputs": [
    {
     "name": "stdout",
     "output_type": "stream",
     "text": [
      "Found existing installation: transformers 4.12.5\n",
      "Uninstalling transformers-4.12.5:\n",
      "  Successfully uninstalled transformers-4.12.5\n"
     ]
    },
    {
     "name": "stderr",
     "output_type": "stream",
     "text": [
      "WARNING: Running pip as the 'root' user can result in broken permissions and conflicting behaviour with the system package manager. It is recommended to use a virtual environment instead: https://pip.pypa.io/warnings/venv\n"
     ]
    },
    {
     "name": "stdout",
     "output_type": "stream",
     "text": [
      "Looking in links: ../input/nbme-pip-wheels\n",
      "Processing /kaggle/input/nbme-pip-wheels/transformers-4.16.2-py3-none-any.whl\n",
      "Requirement already satisfied: requests in /opt/conda/lib/python3.7/site-packages (from transformers) (2.26.0)\n",
      "Requirement already satisfied: sacremoses in /opt/conda/lib/python3.7/site-packages (from transformers) (0.0.47)\n",
      "Requirement already satisfied: tqdm>=4.27 in /opt/conda/lib/python3.7/site-packages (from transformers) (4.62.3)\n",
      "Requirement already satisfied: packaging>=20.0 in /opt/conda/lib/python3.7/site-packages (from transformers) (21.3)\n",
      "Requirement already satisfied: numpy>=1.17 in /opt/conda/lib/python3.7/site-packages (from transformers) (1.20.3)\n",
      "Requirement already satisfied: filelock in /opt/conda/lib/python3.7/site-packages (from transformers) (3.3.2)\n",
      "Requirement already satisfied: regex!=2019.12.17 in /opt/conda/lib/python3.7/site-packages (from transformers) (2021.11.10)\n",
      "Requirement already satisfied: tokenizers!=0.11.3,>=0.10.1 in /opt/conda/lib/python3.7/site-packages (from transformers) (0.10.3)\n",
      "Requirement already satisfied: importlib-metadata in /opt/conda/lib/python3.7/site-packages (from transformers) (4.10.1)\n",
      "Requirement already satisfied: huggingface-hub<1.0,>=0.1.0 in /opt/conda/lib/python3.7/site-packages (from transformers) (0.1.2)\n",
      "Requirement already satisfied: pyyaml>=5.1 in /opt/conda/lib/python3.7/site-packages (from transformers) (6.0)\n",
      "Requirement already satisfied: typing-extensions>=3.7.4.3 in /opt/conda/lib/python3.7/site-packages (from huggingface-hub<1.0,>=0.1.0->transformers) (3.10.0.2)\n",
      "Requirement already satisfied: pyparsing!=3.0.5,>=2.0.2 in /opt/conda/lib/python3.7/site-packages (from packaging>=20.0->transformers) (3.0.6)\n",
      "Requirement already satisfied: zipp>=0.5 in /opt/conda/lib/python3.7/site-packages (from importlib-metadata->transformers) (3.6.0)\n",
      "Requirement already satisfied: charset-normalizer~=2.0.0 in /opt/conda/lib/python3.7/site-packages (from requests->transformers) (2.0.9)\n",
      "Requirement already satisfied: idna<4,>=2.5 in /opt/conda/lib/python3.7/site-packages (from requests->transformers) (3.1)\n",
      "Requirement already satisfied: certifi>=2017.4.17 in /opt/conda/lib/python3.7/site-packages (from requests->transformers) (2021.10.8)\n",
      "Requirement already satisfied: urllib3<1.27,>=1.21.1 in /opt/conda/lib/python3.7/site-packages (from requests->transformers) (1.26.7)\n",
      "Requirement already satisfied: joblib in /opt/conda/lib/python3.7/site-packages (from sacremoses->transformers) (1.1.0)\n",
      "Requirement already satisfied: six in /opt/conda/lib/python3.7/site-packages (from sacremoses->transformers) (1.16.0)\n",
      "Requirement already satisfied: click in /opt/conda/lib/python3.7/site-packages (from sacremoses->transformers) (8.0.3)\n",
      "Installing collected packages: transformers\n"
     ]
    },
    {
     "name": "stderr",
     "output_type": "stream",
     "text": [
      "ERROR: pip's dependency resolver does not currently take into account all the packages that are installed. This behaviour is the source of the following dependency conflicts.\n",
      "allennlp 2.8.0 requires transformers<4.13,>=4.1, but you have transformers 4.16.2 which is incompatible.\n",
      "WARNING: Running pip as the 'root' user can result in broken permissions and conflicting behaviour with the system package manager. It is recommended to use a virtual environment instead: https://pip.pypa.io/warnings/venv\n"
     ]
    },
    {
     "name": "stdout",
     "output_type": "stream",
     "text": [
      "Successfully installed transformers-4.16.2\n",
      "tokenizers.__version__: 0.10.3\n",
      "transformers.__version__: 4.16.2\n",
      "env: TOKENIZERS_PARALLELISM=true\n"
     ]
    }
   ],
   "source": [
    "# ====================================================\n",
    "# Library\n",
    "# ====================================================\n",
    "import os\n",
    "import gc\n",
    "import re\n",
    "import ast\n",
    "import sys\n",
    "import copy  \n",
    "import json\n",
    "import time\n",
    "import math\n",
    "import string\n",
    "import pickle\n",
    "import random\n",
    "import joblib\n",
    "import itertools\n",
    "import warnings\n",
    "warnings.filterwarnings(\"ignore\")\n",
    "info = \">/dev/null 2>&1\"\n",
    "# info = \"\"\n",
    "import scipy as sp\n",
    "import numpy as np\n",
    "import pandas as pd\n",
    "pd.set_option('display.max_rows', 500)\n",
    "pd.set_option('display.max_columns', 500)\n",
    "pd.set_option('display.width', 1000)\n",
    "!unzip \"../input/xlargex/xlargex\" -d ./ $info\n",
    "from tqdm.auto import tqdm\n",
    "from sklearn.metrics import f1_score\n",
    "from sklearn.model_selection import StratifiedKFold, GroupKFold, KFold\n",
    "\n",
    "import torch\n",
    "import torch.nn as nn\n",
    "from torch.nn import Parameter\n",
    "import torch.nn.functional as F\n",
    "from torch.optim import Adam, SGD, AdamW\n",
    "from torch.utils.data import DataLoader, Dataset\n",
    "!unzip \"../input/xlargexpyz/xlargexpyzzz\" -d ./ $info\n",
    "\n",
    "os.system('pip uninstall -y transformers')\n",
    "os.system('python -m pip install --no-index --find-links=../input/nbme-pip-wheels transformers')\n",
    "import tokenizers\n",
    "import transformers\n",
    "print(f\"tokenizers.__version__: {tokenizers.__version__}\")\n",
    "print(f\"transformers.__version__: {transformers.__version__}\")\n",
    "from transformers import AutoTokenizer, AutoModel, AutoConfig\n",
    "from transformers import get_linear_schedule_with_warmup, get_cosine_schedule_with_warmup\n",
    "%env TOKENIZERS_PARALLELISM=true\n",
    "\n",
    "!python ./xlargexpy $info\n",
    "\n",
    "device = torch.device('cuda' if torch.cuda.is_available() else 'cpu')"
   ]
  },
  {
   "cell_type": "markdown",
   "id": "066d5d81",
   "metadata": {
    "papermill": {
     "duration": 0.020449,
     "end_time": "2022-05-01T10:29:36.963312",
     "exception": false,
     "start_time": "2022-05-01T10:29:36.942863",
     "status": "completed"
    },
    "tags": []
   },
   "source": [
    "# Helper functions for scoring"
   ]
  },
  {
   "cell_type": "code",
   "execution_count": 3,
   "id": "f9b8fe7d",
   "metadata": {
    "execution": {
     "iopub.execute_input": "2022-05-01T10:29:37.024470Z",
     "iopub.status.busy": "2022-05-01T10:29:37.023659Z",
     "iopub.status.idle": "2022-05-01T10:29:37.025782Z",
     "shell.execute_reply": "2022-05-01T10:29:37.025185Z",
     "shell.execute_reply.started": "2022-05-01T07:04:37.610963Z"
    },
    "papermill": {
     "duration": 0.041695,
     "end_time": "2022-05-01T10:29:37.025938",
     "exception": false,
     "start_time": "2022-05-01T10:29:36.984243",
     "status": "completed"
    },
    "tags": []
   },
   "outputs": [],
   "source": [
    "# From https://www.kaggle.com/theoviel/evaluation-metric-folds-baseline\n",
    "\n",
    "def micro_f1(preds, truths):\n",
    "    \"\"\"  \n",
    "    Micro f1 on binary arrays.\n",
    "\n",
    "    Args:\n",
    "        preds (list of lists of ints): Predictions.\n",
    "        truths (list of lists of ints): Ground truths.\n",
    "\n",
    "    Returns:\n",
    "        float: f1 score.\n",
    "    \"\"\"\n",
    "    # Micro : aggregating over all instances\n",
    "    preds = np.concatenate(preds)  \n",
    "    truths = np.concatenate(truths)\n",
    "    return f1_score(truths, preds)\n",
    "\n",
    "\n",
    "def spans_to_binary(spans, length=None):\n",
    "    \"\"\"\n",
    "    Converts spans to a binary array indicating whether each character is in the span.\n",
    "\n",
    "    Args:\n",
    "        spans (list of lists of two ints): Spans.\n",
    "\n",
    "    Returns:\n",
    "        np array [length]: Binarized spans.\n",
    "    \"\"\"\n",
    "    length = np.max(spans) if length is None else length\n",
    "    binary = np.zeros(length)\n",
    "    for start, end in spans:\n",
    "        binary[start:end] = 1\n",
    "    return binary\n",
    "\n",
    "\n",
    "def span_micro_f1(preds, truths):\n",
    "    \"\"\"\n",
    "    Micro f1 on spans.\n",
    "\n",
    "    Args:\n",
    "        preds (list of lists of two ints): Prediction spans.\n",
    "        truths (list of lists of two ints): Ground truth spans.\n",
    "\n",
    "    Returns:\n",
    "        float: f1 score.\n",
    "    \"\"\"\n",
    "    bin_preds = [] \n",
    "    bin_truths = []\n",
    "    for pred, truth in zip(preds, truths):\n",
    "        if not len(pred) and not len(truth):\n",
    "            continue\n",
    "        length = max(np.max(pred) if len(pred) else 0, np.max(truth) if len(truth) else 0)\n",
    "        bin_preds.append(spans_to_binary(pred, length))\n",
    "        bin_truths.append(spans_to_binary(truth, length))\n",
    "    return micro_f1(bin_preds, bin_truths)"
   ]
  },
  {
   "cell_type": "code",
   "execution_count": 4,
   "id": "10265bda",
   "metadata": {
    "execution": {
     "iopub.execute_input": "2022-05-01T10:29:37.085088Z",
     "iopub.status.busy": "2022-05-01T10:29:37.081262Z",
     "iopub.status.idle": "2022-05-01T10:29:37.088418Z",
     "shell.execute_reply": "2022-05-01T10:29:37.087836Z",
     "shell.execute_reply.started": "2022-05-01T07:04:37.624284Z"
    },
    "papermill": {
     "duration": 0.04229,
     "end_time": "2022-05-01T10:29:37.088596",
     "exception": false,
     "start_time": "2022-05-01T10:29:37.046306",
     "status": "completed"
    },
    "tags": []
   },
   "outputs": [],
   "source": [
    "def create_labels_for_scoring(df):\n",
    "    # example: ['0 1', '3 4'] -> ['0 1; 3 4']\n",
    "    df['location_for_create_labels'] = [ast.literal_eval(f'[]')] * len(df)\n",
    "    for i in range(len(df)):\n",
    "        lst = df.loc[i, 'location']\n",
    "        if lst:\n",
    "            new_lst = ';'.join(lst)\n",
    "            df.loc[i, 'location_for_create_labels'] = ast.literal_eval(f'[[\"{new_lst}\"]]')\n",
    "    # create labels\n",
    "    truths = []\n",
    "    for location_list in df['location_for_create_labels'].values:\n",
    "        truth = []\n",
    "        if len(location_list) > 0:\n",
    "            location = location_list[0]\n",
    "            for loc in [s.split() for s in location.split(';')]:\n",
    "                start, end = int(loc[0]), int(loc[1])\n",
    "                truth.append([start, end])\n",
    "        truths.append(truth)\n",
    "    return truths\n",
    "\n",
    "\n",
    "def get_char_probs(texts, predictions, tokenizer):\n",
    "    results = [np.zeros(len(t)) for t in texts]\n",
    "    for i, (text, prediction) in enumerate(zip(texts, predictions)):\n",
    "        encoded = tokenizer(text, \n",
    "                            add_special_tokens=True,\n",
    "                            return_offsets_mapping=True)\n",
    "        for idx, (offset_mapping, pred) in enumerate(zip(encoded['offset_mapping'], prediction)):\n",
    "            start = offset_mapping[0]\n",
    "            end = offset_mapping[1]\n",
    "            results[i][start:end] = pred\n",
    "    return results\n",
    "\n",
    "\n",
    "def get_results(char_probs, th=0.5):\n",
    "    results = []\n",
    "    for char_prob in char_probs:\n",
    "        result = np.where(char_prob >= th)[0] + 1\n",
    "        result = [list(g) for _, g in itertools.groupby(result, key=lambda n, c=itertools.count(): n - next(c))]\n",
    "        result = [f\"{min(r)} {max(r)}\" for r in result]\n",
    "        result = \";\".join(result)\n",
    "        results.append(result)\n",
    "    return results\n",
    "\n",
    "\n",
    "def get_predictions(results):\n",
    "    predictions = []\n",
    "    for result in results:\n",
    "        prediction = []\n",
    "        if result != \"\":\n",
    "            for loc in [s.split() for s in result.split(';')]:\n",
    "                start, end = int(loc[0]), int(loc[1])\n",
    "                prediction.append([start, end])\n",
    "        predictions.append(prediction)\n",
    "    return predictions"
   ]
  },
  {
   "cell_type": "markdown",
   "id": "4a37780e",
   "metadata": {
    "papermill": {
     "duration": 0.021085,
     "end_time": "2022-05-01T10:29:37.130275",
     "exception": false,
     "start_time": "2022-05-01T10:29:37.109190",
     "status": "completed"
    },
    "tags": []
   },
   "source": [
    "# Utils"
   ]
  },
  {
   "cell_type": "code",
   "execution_count": 5,
   "id": "a7a539c6",
   "metadata": {
    "execution": {
     "iopub.execute_input": "2022-05-01T10:29:37.181984Z",
     "iopub.status.busy": "2022-05-01T10:29:37.180926Z",
     "iopub.status.idle": "2022-05-01T10:29:37.184049Z",
     "shell.execute_reply": "2022-05-01T10:29:37.183263Z",
     "shell.execute_reply.started": "2022-05-01T07:04:37.643538Z"
    },
    "papermill": {
     "duration": 0.03339,
     "end_time": "2022-05-01T10:29:37.184217",
     "exception": false,
     "start_time": "2022-05-01T10:29:37.150827",
     "status": "completed"
    },
    "tags": []
   },
   "outputs": [],
   "source": [
    "# ====================================================\n",
    "# Utils\n",
    "# ====================================================\n",
    "def get_score(y_true, y_pred):\n",
    "    score = span_micro_f1(y_true, y_pred)\n",
    "    return score\n",
    "\n",
    "\n",
    "def get_logger(filename='inference'):\n",
    "    from logging import getLogger, INFO, StreamHandler, FileHandler, Formatter\n",
    "    logger = getLogger(__name__)\n",
    "    logger.setLevel(INFO)\n",
    "    handler1 = StreamHandler()\n",
    "    handler1.setFormatter(Formatter(\"%(message)s\"))\n",
    "    handler2 = FileHandler(filename=f\"{filename}.log\")\n",
    "    handler2.setFormatter(Formatter(\"%(message)s\"))\n",
    "    logger.addHandler(handler1)\n",
    "    logger.addHandler(handler2)\n",
    "    return logger\n",
    "\n",
    "# LOGGER = get_logger()\n",
    "\n",
    "def seed_everything(seed=42):\n",
    "    random.seed(seed)\n",
    "    os.environ['PYTHONHASHSEED'] = str(seed)\n",
    "    np.random.seed(seed)\n",
    "    torch.manual_seed(seed)\n",
    "    torch.cuda.manual_seed(seed)\n",
    "    torch.backends.cudnn.deterministic = True\n",
    "    \n",
    "# seed_everything(seed=42)"
   ]
  },
  {
   "cell_type": "markdown",
   "id": "b87f1022",
   "metadata": {
    "papermill": {
     "duration": 0.020112,
     "end_time": "2022-05-01T10:29:37.224994",
     "exception": false,
     "start_time": "2022-05-01T10:29:37.204882",
     "status": "completed"
    },
    "tags": []
   },
   "source": [
    "# OOF"
   ]
  },
  {
   "cell_type": "markdown",
   "id": "9660c901",
   "metadata": {
    "papermill": {
     "duration": 0.020987,
     "end_time": "2022-05-01T10:29:37.266199",
     "exception": false,
     "start_time": "2022-05-01T10:29:37.245212",
     "status": "completed"
    },
    "tags": []
   },
   "source": [
    "# Data Loading"
   ]
  },
  {
   "cell_type": "markdown",
   "id": "11598bdc",
   "metadata": {
    "papermill": {
     "duration": 0.02019,
     "end_time": "2022-05-01T10:29:37.306461",
     "exception": false,
     "start_time": "2022-05-01T10:29:37.286271",
     "status": "completed"
    },
    "tags": []
   },
   "source": [
    "# Dataset"
   ]
  },
  {
   "cell_type": "code",
   "execution_count": 6,
   "id": "9f1fc71f",
   "metadata": {
    "execution": {
     "iopub.execute_input": "2022-05-01T10:29:37.352379Z",
     "iopub.status.busy": "2022-05-01T10:29:37.351311Z",
     "iopub.status.idle": "2022-05-01T10:29:49.492225Z",
     "shell.execute_reply": "2022-05-01T10:29:49.491469Z",
     "shell.execute_reply.started": "2022-05-01T07:04:37.658644Z"
    },
    "papermill": {
     "duration": 12.165498,
     "end_time": "2022-05-01T10:29:49.492392",
     "exception": false,
     "start_time": "2022-05-01T10:29:37.326894",
     "status": "completed"
    },
    "tags": []
   },
   "outputs": [],
   "source": [
    "# ====================================================\n",
    "# Dataset\n",
    "# ====================================================\n",
    "def prepare_input(cfg, text, feature_text):\n",
    "    inputs = cfg.tokenizer(text, feature_text, \n",
    "                           add_special_tokens=True,\n",
    "                           max_length=CFG.max_len,\n",
    "                           padding=\"max_length\",\n",
    "                           return_offsets_mapping=False)\n",
    "    for k, v in inputs.items():\n",
    "        inputs[k] = torch.tensor(v, dtype=torch.long)\n",
    "    return inputs\n",
    "\n",
    "for iii in os.listdir(\"./\"):\n",
    "    if iii not in [\"submission.csv\"]:\n",
    "        !rm -rf $iii $info\n",
    "\n",
    "class TestDataset(Dataset):\n",
    "    def __init__(self, cfg, df):\n",
    "        self.cfg = cfg\n",
    "        self.feature_texts = df['feature_text'].values\n",
    "        self.pn_historys = df['pn_history'].values\n",
    "\n",
    "    def __len__(self):\n",
    "        return len(self.feature_texts)\n",
    "\n",
    "    def __getitem__(self, item):\n",
    "        inputs = prepare_input(self.cfg, \n",
    "                               self.pn_historys[item], \n",
    "                               self.feature_texts[item])\n",
    "        return inputs"
   ]
  },
  {
   "cell_type": "markdown",
   "id": "e7e07c79",
   "metadata": {
    "papermill": {
     "duration": 0.020367,
     "end_time": "2022-05-01T10:29:49.533167",
     "exception": false,
     "start_time": "2022-05-01T10:29:49.512800",
     "status": "completed"
    },
    "tags": []
   },
   "source": [
    "# Model"
   ]
  },
  {
   "cell_type": "code",
   "execution_count": 7,
   "id": "c5625613",
   "metadata": {
    "execution": {
     "iopub.execute_input": "2022-05-01T10:29:49.589892Z",
     "iopub.status.busy": "2022-05-01T10:29:49.582864Z",
     "iopub.status.idle": "2022-05-01T10:29:49.593182Z",
     "shell.execute_reply": "2022-05-01T10:29:49.592540Z",
     "shell.execute_reply.started": "2022-05-01T07:04:47.844292Z"
    },
    "papermill": {
     "duration": 0.039769,
     "end_time": "2022-05-01T10:29:49.593321",
     "exception": false,
     "start_time": "2022-05-01T10:29:49.553552",
     "status": "completed"
    },
    "tags": []
   },
   "outputs": [],
   "source": [
    "# ====================================================\n",
    "# Model\n",
    "# ====================================================\n",
    "class CustomModel(nn.Module):\n",
    "    def __init__(self, cfg, config_path=None, pretrained=False):\n",
    "        super().__init__()\n",
    "        self.cfg = cfg\n",
    "        if config_path is None:\n",
    "            self.config = AutoConfig.from_pretrained(cfg.model, output_hidden_states=True)\n",
    "        else:\n",
    "            self.config = torch.load(config_path)\n",
    "        if pretrained:\n",
    "            self.model = AutoModel.from_pretrained(cfg.model, config=self.config)\n",
    "        else:\n",
    "            self.model = AutoModel.from_config(self.config)\n",
    "        self.fc_dropout = nn.Dropout(cfg.fc_dropout)\n",
    "        self.fc = nn.Linear(self.config.hidden_size, 1)\n",
    "        self._init_weights(self.fc)\n",
    "        \n",
    "    def _init_weights(self, module):\n",
    "        if isinstance(module, nn.Linear):\n",
    "            module.weight.data.normal_(mean=0.0, std=self.config.initializer_range)\n",
    "            if module.bias is not None:\n",
    "                module.bias.data.zero_()\n",
    "        elif isinstance(module, nn.Embedding):\n",
    "            module.weight.data.normal_(mean=0.0, std=self.config.initializer_range)\n",
    "            if module.padding_idx is not None:\n",
    "                module.weight.data[module.padding_idx].zero_()\n",
    "        elif isinstance(module, nn.LayerNorm):\n",
    "            module.bias.data.zero_()\n",
    "            module.weight.data.fill_(1.0)\n",
    "        \n",
    "    def feature(self, inputs):\n",
    "        outputs = self.model(**inputs)\n",
    "        last_hidden_states = outputs[0]\n",
    "        return last_hidden_states\n",
    "\n",
    "    def forward(self, inputs):\n",
    "        feature = self.feature(inputs)\n",
    "        output = self.fc(self.fc_dropout(feature))\n",
    "        return output"
   ]
  },
  {
   "cell_type": "markdown",
   "id": "3903ba90",
   "metadata": {
    "papermill": {
     "duration": 0.020328,
     "end_time": "2022-05-01T10:29:49.634146",
     "exception": false,
     "start_time": "2022-05-01T10:29:49.613818",
     "status": "completed"
    },
    "tags": []
   },
   "source": [
    "# inference"
   ]
  },
  {
   "cell_type": "code",
   "execution_count": 8,
   "id": "4dff1047",
   "metadata": {
    "execution": {
     "iopub.execute_input": "2022-05-01T10:29:49.683494Z",
     "iopub.status.busy": "2022-05-01T10:29:49.682252Z",
     "iopub.status.idle": "2022-05-01T10:29:49.685695Z",
     "shell.execute_reply": "2022-05-01T10:29:49.685049Z",
     "shell.execute_reply.started": "2022-05-01T07:04:47.870439Z"
    },
    "papermill": {
     "duration": 0.031572,
     "end_time": "2022-05-01T10:29:49.685859",
     "exception": false,
     "start_time": "2022-05-01T10:29:49.654287",
     "status": "completed"
    },
    "tags": []
   },
   "outputs": [],
   "source": [
    "# ====================================================\n",
    "# inference\n",
    "# ====================================================\n",
    "def inference_fn(test_loader, model, device):\n",
    "    preds = []\n",
    "    model.eval()\n",
    "    model.to(device)\n",
    "    tk0 = tqdm(test_loader, total=len(test_loader))\n",
    "    for inputs in tk0:\n",
    "        for k, v in inputs.items():\n",
    "            inputs[k] = v.to(device)\n",
    "        with torch.no_grad():\n",
    "            y_preds = model(inputs)\n",
    "        preds.append(y_preds.sigmoid().to('cpu').numpy())\n",
    "    predictions = np.concatenate(preds)\n",
    "    return predictions"
   ]
  },
  {
   "cell_type": "markdown",
   "id": "3cf2204a",
   "metadata": {
    "papermill": {
     "duration": 0.019858,
     "end_time": "2022-05-01T10:29:49.726139",
     "exception": false,
     "start_time": "2022-05-01T10:29:49.706281",
     "status": "completed"
    },
    "tags": []
   },
   "source": [
    "# Submission"
   ]
  },
  {
   "cell_type": "code",
   "execution_count": 9,
   "id": "df6ccbfa",
   "metadata": {
    "execution": {
     "iopub.execute_input": "2022-05-01T10:29:49.773255Z",
     "iopub.status.busy": "2022-05-01T10:29:49.772099Z",
     "iopub.status.idle": "2022-05-01T10:29:49.774851Z",
     "shell.execute_reply": "2022-05-01T10:29:49.775515Z",
     "shell.execute_reply.started": "2022-05-01T07:04:47.887445Z"
    },
    "papermill": {
     "duration": 0.028965,
     "end_time": "2022-05-01T10:29:49.775686",
     "exception": false,
     "start_time": "2022-05-01T10:29:49.746721",
     "status": "completed"
    },
    "tags": []
   },
   "outputs": [],
   "source": [
    "def results(drop=False):\n",
    "    if drop:\n",
    "        results = get_results(predictions, th=best_th)\n",
    "        submission['location'] = results\n",
    "        display(submission.head())\n",
    "        submission[['id', 'location']].to_csv('submission.csv', index=False)"
   ]
  },
  {
   "cell_type": "code",
   "execution_count": 10,
   "id": "b36b65c9",
   "metadata": {
    "execution": {
     "iopub.execute_input": "2022-05-01T10:29:49.822808Z",
     "iopub.status.busy": "2022-05-01T10:29:49.821831Z",
     "iopub.status.idle": "2022-05-01T10:29:49.825436Z",
     "shell.execute_reply": "2022-05-01T10:29:49.824845Z",
     "shell.execute_reply.started": "2022-05-01T07:04:47.897562Z"
    },
    "papermill": {
     "duration": 0.029615,
     "end_time": "2022-05-01T10:29:49.825582",
     "exception": false,
     "start_time": "2022-05-01T10:29:49.795967",
     "status": "completed"
    },
    "tags": []
   },
   "outputs": [],
   "source": [
    "results(drop=False)"
   ]
  }
 ],
 "metadata": {
  "kernelspec": {
   "display_name": "Python 3",
   "language": "python",
   "name": "python3"
  },
  "language_info": {
   "codemirror_mode": {
    "name": "ipython",
    "version": 3
   },
   "file_extension": ".py",
   "mimetype": "text/x-python",
   "name": "python",
   "nbconvert_exporter": "python",
   "pygments_lexer": "ipython3",
   "version": "3.7.12"
  },
  "papermill": {
   "default_parameters": {},
   "duration": 621.134223,
   "end_time": "2022-05-01T10:29:52.847758",
   "environment_variables": {},
   "exception": null,
   "input_path": "__notebook__.ipynb",
   "output_path": "__notebook__.ipynb",
   "parameters": {},
   "start_time": "2022-05-01T10:19:31.713535",
   "version": "2.3.3"
  }
 },
 "nbformat": 4,
 "nbformat_minor": 5
}

{
 "cells": [
  {
   "cell_type": "markdown",
   "metadata": {},
   "source": [
    "# Week 1 Assignment\n",
    "\n",
    "* Download the \"A1_2022SpringB.ipynb\" notebook \n",
    "* Fill in the code in the cells marked with `# YOUR ANSWER HERE:` by answering the question/task defined in the cell above it starting with `GRADED:`\n",
    "* `VERY IMPORTANT`: Code cells outside of `# YOUR ANSWER HERE:` will not be considered for grading. \n",
    "  * Feel free to write outside of it for debugging\n",
    "* `DO NOT` fill your asnwers with many `print` statements. Only use `print` if the assignment asked explcitly. For example, if you are asked to write a function to calculate the sum of two numbers--the function should return that value, `NOT` a `print` statement of the value.\n",
    "* Submit the updated notebook\n",
    "  * Make sure to save your changes before submitting it!\n",
    "  * Make sure to rename your file as __A1_lastname_firstname.ipynb__"
   ]
  },
  {
   "cell_type": "code",
   "execution_count": 13,
   "metadata": {},
   "outputs": [],
   "source": [
    "#Import necessary libraries\n",
    "import pandas as pd\n",
    "import numpy as np"
   ]
  },
  {
   "cell_type": "markdown",
   "metadata": {},
   "source": [
    "## `GRADED [1]`: \n",
    "Provided below are functions that are:\n",
    "- completely defined: `add_numbers`;\n",
    "- partially defined: `min_square`; _and_\n",
    "- not defined at all: `sum_squares`\n",
    "\n",
    " 1. Complete `min_square` so that it returns the minimum of (square root of `a` and square root of `b`)\n",
    " 2. Write a function called `sum_squares` that returns the sum of the square root of `a`, the square root of `b`, and the square root of `c`.\n",
    " \n",
    " If the return value is a fraction, please round it to __2 decimal place__."
   ]
  },
  {
   "cell_type": "code",
   "execution_count": 41,
   "metadata": {},
   "outputs": [],
   "source": [
    "# [1] YOUR ANSWER HERE:\n",
    "\n",
    "def add_numbers(x, y):\n",
    "    result = x + y\n",
    "    return round(result, 2)\n",
    "\n",
    "def min_square(a, b):\n",
    "    # Write code to return the lower of (minimum of) square root of a and square root of b\n",
    "    result =  min(np.sqrt(a), np.sqrt(b)) # Replace None with your code\n",
    "    return round(result, 2)\n",
    "\n",
    "def sum_squares(a, b, c):\n",
    "    result = np.sqrt(a) + np.sqrt(b) + np.sqrt(c)\n",
    "    return round(result, 2)"
   ]
  },
  {
   "cell_type": "code",
   "execution_count": 42,
   "metadata": {},
   "outputs": [
    {
     "name": "stdout",
     "output_type": "stream",
     "text": [
      "5\n",
      "1.41\n",
      "4.15\n"
     ]
    }
   ],
   "source": [
    "# please do not modify this cell\n",
    "print(add_numbers(2, 3))\n",
    "print(min_square(2, 3))\n",
    "print(sum_squares(1,2,3))"
   ]
  },
  {
   "cell_type": "markdown",
   "metadata": {
    "collapsed": true
   },
   "source": [
    "## `GRADED [2]`: \n",
    "Using a `for` loop: loop over between `2` and `97` (__`inclusive`__); in the same `for` loop print __`only`__ every 5th prime numbers you have encountered in the loop."
   ]
  },
  {
   "cell_type": "code",
   "execution_count": 1,
   "metadata": {},
   "outputs": [
    {
     "name": "stdout",
     "output_type": "stream",
     "text": [
      "[2, 3, 5, 7, 11, 13, 17, 19, 23, 29, 31, 37, 41, 43, 47, 53, 59, 61, 67, 71, 73, 79, 83, 89, 97]\n",
      "[2, 13, 31, 53, 73]\n"
     ]
    }
   ],
   "source": [
    "# [2] YOUR ANSWER HERE:\n",
    "\n",
    "# condition 1: one for-loop\n",
    "# condition 2: looking for prime\n",
    "# condition 3: every fifth\n",
    "# condition 4: print within for-loop\n",
    "\n",
    "# Fundamental Theorem of Arithmetic states that every composite number can be written as the product of two or more (not necessarily distinct) primes.\n",
    "# Since 11 * 13 = 143 > 98, so we only need find the number between 2 and 98 that cannot be divided by prime number smaller than 11, which are 2, 3, 5, 7.\n",
    "\n",
    "ans = []\n",
    "\n",
    "for i in range(2,98):\n",
    "    if i > 2 and i % 2 == 0:\n",
    "        continue\n",
    "    elif i > 3 and i % 3 == 0:\n",
    "       continue\n",
    "    elif i > 5 and i % 5 == 0:\n",
    "        continue\n",
    "    elif i > 7 and i % 7 == 0:\n",
    "        continue\n",
    "    else:\n",
    "        ans.append(i)\n",
    "    \n",
    "    if i == 97:\n",
    "        print(ans)\n",
    "        print(ans[0:-1:5])"
   ]
  },
  {
   "cell_type": "markdown",
   "metadata": {},
   "source": [
    "## `GRADED [3]`: \n",
    "Define a function called `temperature_converter` that takes a temperature in `Celsius` as an argument and __prints__ the equivalent temperature in `Fahrenheit` using the following sentence: `Original temperature was [..] Celsius, which equals to [..] Fahrenheit.`\n",
    "\n",
    "Please round your results to __1 decimal place__."
   ]
  },
  {
   "cell_type": "code",
   "execution_count": 5,
   "metadata": {},
   "outputs": [],
   "source": [
    "# [3] YOUR ANSWER HERE:\n",
    "\n",
    "def temperature_converter(temp):\n",
    "    # extreme case\n",
    "    if temp < -273.15:\n",
    "        return 'Error: Input is lower than Absolute Zero'\n",
    "    \n",
    "    else:\n",
    "        fahren = round(temp*9/5+32, 1)\n",
    "        print(f'Original temperature was {temp} degrees in Celsius, which equals to {fahren} Fahrenheit degrees.')"
   ]
  },
  {
   "cell_type": "code",
   "execution_count": 6,
   "metadata": {},
   "outputs": [
    {
     "name": "stdout",
     "output_type": "stream",
     "text": [
      "Original temperature was -15.33 degrees in Celsius, which equals to 4.4 Fahrenheit degrees.\n"
     ]
    }
   ],
   "source": [
    "# please do not modify this cell\n",
    "temperature_converter(-15.33)  "
   ]
  },
  {
   "cell_type": "markdown",
   "metadata": {},
   "source": [
    "## `GRADED [4]`: \n",
    "Given the following dictionary, \n",
    " \n",
    "- Please create a new dictionary called `company_dict`. Example of the key-value pair for this new dictionary is as following,\n",
    "\n",
    "    'Facebook': ['Mark Zuckerberg', '$1']\n",
    "\n",
    "\n",
    "- Please define a funcation called `stat_company` that takes the original dictionary `ceo_dict` as an argument and return the __maximum__ and __median__ of annual salary for those CEOs.\n",
    "\n",
    "    Please round your results to __2 decimal place__. "
   ]
  },
  {
   "cell_type": "code",
   "execution_count": 9,
   "metadata": {},
   "outputs": [],
   "source": [
    "ceo_dict = {    \n",
    "    'Mark Zuckerberg': ['Facebook', '$1'],\n",
    "    'Sundar Pichai': ['Alphabet', '$2,000,000'],\n",
    "    'Jeff Bezos': ['Amazon', '$81,841'],\n",
    "    'Tim Cook': ['Apple', '$3,000,000']    \n",
    "}"
   ]
  },
  {
   "cell_type": "code",
   "execution_count": 40,
   "metadata": {},
   "outputs": [],
   "source": [
    "# [4] YOUR ANSWER HERE:\n",
    "\n",
    "# part1\n",
    "company_dict = {}\n",
    "\n",
    "for key, value in ceo_dict.items():\n",
    "    company_dict[value[0]] = [key, value[1]]\n",
    "\n",
    "# part2\n",
    "def stat_company(d):   \n",
    "    salary = []\n",
    "    ceo_name = [None, 'nobody, since number of CEOs are even']\n",
    "    \n",
    "    # 1. take data that is not ',' or '$'\n",
    "    # 2. convert it to float \n",
    "    # 3. append it to the salary list\n",
    "    for key, value in d.items():\n",
    "        salary_str = [i for i in value[1] if (i != ',' and i != '$')]\n",
    "        temp = float(''.join(salary_str))\n",
    "        salary.append(temp)\n",
    "        \n",
    "        if temp == max(salary):\n",
    "            ceo_name[0] = key\n",
    "        if len(d) % 2 != 0 and temp == np.median(salary):\n",
    "            ceo_name[1] = key\n",
    "    \n",
    "    maximum = \"{:.2f}\".format(max(salary))\n",
    "    median = \"{:.2f}\".format(np.median(salary))\n",
    "    \n",
    "    return f'The maximum of annual salary is ${maximum}, earned by {ceo_name[0]}. The median of annual salary is ${median} for thoese CEOs, earned by {ceo_name[1]}.'"
   ]
  },
  {
   "cell_type": "code",
   "execution_count": 41,
   "metadata": {},
   "outputs": [
    {
     "data": {
      "text/plain": [
       "{'Facebook': ['Mark Zuckerberg', '$1'],\n",
       " 'Alphabet': ['Sundar Pichai', '$2,000,000'],\n",
       " 'Amazon': ['Jeff Bezos', '$81,841'],\n",
       " 'Apple': ['Tim Cook', '$3,000,000']}"
      ]
     },
     "execution_count": 41,
     "metadata": {},
     "output_type": "execute_result"
    }
   ],
   "source": [
    "company_dict"
   ]
  },
  {
   "cell_type": "code",
   "execution_count": 42,
   "metadata": {},
   "outputs": [
    {
     "data": {
      "text/plain": [
       "'The maximum of annual salary is $3000000.00, earned by Tim Cook. The median of annual salary is $1040920.50 for thoese CEOs, earned by nobody, since number of CEOs are even.'"
      ]
     },
     "execution_count": 42,
     "metadata": {},
     "output_type": "execute_result"
    }
   ],
   "source": [
    "stat_company(ceo_dict)"
   ]
  },
  {
   "cell_type": "markdown",
   "metadata": {},
   "source": [
    "## `GRADED [5]`: \n",
    "__Palindrome__ is defined as \"a word, phrase, or sequence that reads the same backward as forward, e.g., madam or nurses run.\"\n",
    "\n",
    "1. Please find and list all the palindrome dates in Feburary, 2022. For example, '2/2/22' and '2/21/22' are both palindrome dates.\n",
    "\n",
    "2. Please print \"There are [x] palindrome dates in Feburary, 2022\". X is the total number of palindrome dates found from step above\n",
    "\n",
    "Hint: There are __28__ days in Feburary, 2022"
   ]
  },
  {
   "cell_type": "code",
   "execution_count": 44,
   "metadata": {},
   "outputs": [
    {
     "name": "stdout",
     "output_type": "stream",
     "text": [
      "Palindrome dates are: ['2/2/22', '2/20/22', '2/21/22', '2/22/22', '2/23/22', '2/24/22', '2/25/22', '2/26/22', '2/27/22', '2/28/22'].\n",
      "There are [10] palindrome dates in Feburary, 2022.\n"
     ]
    }
   ],
   "source": [
    "# [5] YOUR ANSWER HERE:\n",
    "# restore all dates\n",
    "\n",
    "Feb_dates = ['2/' + str(date) + '/22' for date in range(1, 29)]\n",
    "\n",
    "palindrome_dates = []\n",
    "\n",
    "count = 0  \n",
    "for date in Feb_dates:\n",
    "    \n",
    "    if date.replace('/', '') == date.replace('/', '')[::-1]:\n",
    "        count += 1\n",
    "        palindrome_dates.append(date)\n",
    "    \n",
    "    # print when it's last date of Feb   \n",
    "    if date == '2/28/22':\n",
    "        print('Palindrome dates are: ', [pal_date for pal_date in palindrome_dates], '.', sep = '')\n",
    "        print(f'There are [{count}] palindrome dates in Feburary, 2022.')\n",
    "    \n",
    "    # continue the loop if it's not a palindrome date\n",
    "    else:\n",
    "        continue\n",
    "    "
   ]
  }
 ],
 "metadata": {
  "interpreter": {
   "hash": "40d3a090f54c6569ab1632332b64b2c03c39dcf918b08424e98f38b5ae0af88f"
  },
  "kernelspec": {
   "display_name": "Python 3.9.7 ('base')",
   "language": "python",
   "name": "python3"
  },
  "language_info": {
   "codemirror_mode": {
    "name": "ipython",
    "version": 3
   },
   "file_extension": ".py",
   "mimetype": "text/x-python",
   "name": "python",
   "nbconvert_exporter": "python",
   "pygments_lexer": "ipython3",
   "version": "3.9.7"
  }
 },
 "nbformat": 4,
 "nbformat_minor": 2
}
